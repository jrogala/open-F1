{
 "cells": [
  {
   "cell_type": "code",
   "execution_count": 24,
   "id": "180e6eed-df0e-41d9-8791-9123a942121b",
   "metadata": {},
   "outputs": [],
   "source": [
    "import pandas as pd\n",
    "pd.options.display.max_columns = 100\n",
    "import numpy as np\n",
    "from matplotlib import pyplot as plt\n",
    "import seaborn as sns\n",
    "sns.set_theme()\n",
    "import fastf1\n",
    "from scipy.optimize import curve_fit\n",
    "fastf1.Cache.enable_cache('./f1cache')\n",
    "from dataclasses import dataclass, field\n",
    "import enum"
   ]
  },
  {
   "cell_type": "code",
   "execution_count": null,
   "id": "5821425a-0bab-47f4-b5e7-42bb6be0eec4",
   "metadata": {},
   "outputs": [],
   "source": [
    "session = fastf1.get_session(2022, 'Belgium', 'R')\n",
    "session.load(telemetry=True, laps=True, weather=True)\n",
    "laps = session.laps\n",
    "laps.head(0)"
   ]
  },
  {
   "cell_type": "code",
   "execution_count": 127,
   "id": "f8bc0836-ba82-401d-94d9-328a0da82059",
   "metadata": {},
   "outputs": [],
   "source": [
    "def get_traffic(lap: pd.DataFrame, dist=5):\n",
    "    tel = lap.get_telemetry().copy(deep=True)\n",
    "    driver_ahead = tel.query(f\"DistanceToDriverAhead < {dist} and DriverAhead\")\n",
    "    driver_ahead.set_index(\"Date\")[\"DriverAhead\"]\n",
    "    lap = lap.join(\n",
    "        lap.set_index(\"LapStartDate\")[[\"LapNumber\"]] \\\n",
    "            .join(driver_ahead.set_index(\"Date\")[\"DriverAhead\"], how=\"outer\") \\\n",
    "            .sort_index().rename({\"DriverAhead\": \"Traffic\"}, axis=1) \\\n",
    "            .fillna(method=\"ffill\") \\\n",
    "            .groupby(\"LapNumber\") \\\n",
    "            .count() > 1 \\\n",
    "        , on=\"LapNumber\"\n",
    "    )\n",
    "    return lap"
   ]
  },
  {
   "cell_type": "code",
   "execution_count": 175,
   "id": "c37a7121-5caa-4158-a8c4-c9e1699ab8d9",
   "metadata": {},
   "outputs": [],
   "source": [
    "lec_lap = session.laps.query(\"Driver == 'LEC'\")\n",
    "sai_lap = session.laps.query(\"Driver == 'SAI'\")\n",
    "\n",
    "rus_lap = session.laps.query(\"Driver == 'RUS'\")\n",
    "ver_lap = session.laps.query(\"Driver == 'VER'\")"
   ]
  },
  {
   "cell_type": "code",
   "execution_count": 169,
   "id": "03b80d07-fa6b-4aa5-b691-40abe48b1da7",
   "metadata": {},
   "outputs": [],
   "source": [
    "def plot_driver_laptime_traffic(lap: pd.DataFrame):\n",
    "    if \"Traffic\" not in lap:\n",
    "        print(\"Getting traffic data\")\n",
    "        lap = get_traffic(lap, dist=1)\n",
    "    traffic = lap.query(\"Traffic == True\")\n",
    "    no_traf = lap.query(\"Traffic == False\")\n",
    "    plt.scatter(traffic.LapNumber, traffic.LapTime.dt.total_seconds(), label=\"Traffic\")\n",
    "    plt.scatter(no_traf.LapNumber, no_traf.LapTime.dt.total_seconds(), label=\"No Traffic\")\n",
    "    plt.legend()"
   ]
  },
  {
   "cell_type": "code",
   "execution_count": 170,
   "id": "c0468b58-7d3c-4a4f-be8b-20555ae6f9ab",
   "metadata": {},
   "outputs": [
    {
     "name": "stdout",
     "output_type": "stream",
     "text": [
      "Getting traffic data\n",
      "Getting traffic data\n"
     ]
    },
    {
     "data": {
      "image/png": "[encoded data removed]",
      "text/plain": [
       "<Figure size 432x288 with 1 Axes>"
      ]
     },
     "metadata": {},
     "output_type": "display_data"
    }
   ],
   "source": [
    "plot_traffic(sai_lap)\n",
    "plot_traffic(rus_lap)"
   ]
  },
  {
   "cell_type": "code",
   "execution_count": 150,
   "id": "57da20a4-fce3-48e0-9ded-38ae13a17cc2",
   "metadata": {},
   "outputs": [],
   "source": [
    "def plot_driver_laptime_tyre(lap: pd.DataFrame):\n",
    "    class Tyre(enum.Enum):\n",
    "        MEDIUM = \"MEDIUM\"\n",
    "        HARD = \"HARD\"\n",
    "        SOFT = \"SOFT\"\n",
    "        INTERMEDIATE = \"INTERMEDIATE\"\n",
    "        WET = \"WET\"\n",
    "    tyreColor = {\n",
    "        \"MEDIUM\": \"yellow\",\n",
    "        \"HARD\": \"black\",\n",
    "        \"SOFT\": \"red\",\n",
    "        \"INTERMEDIATE\": \"green\",\n",
    "        \"WET\": \"blue\"\n",
    "    }\n",
    "    for comp in tyreColor:\n",
    "        lap_comp = lap.query(f\"Compound == '{comp}'\")\n",
    "        if len(lap_comp):\n",
    "            plt.scatter(lap_comp.LapNumber, lap_comp.LapTime.dt.total_seconds(), color= tyreColor[comp], label=comp)\n",
    "    plt.legend()"
   ]
  },
  {
   "cell_type": "code",
   "execution_count": 176,
   "id": "75607f50-ec2f-4427-aedb-67d5dd068edd",
   "metadata": {},
   "outputs": [
    {
     "data": {
      "image/png": "[encoded data removed]",
      "text/plain": [
       "<Figure size 432x288 with 1 Axes>"
      ]
     },
     "metadata": {},
     "output_type": "display_data"
    }
   ],
   "source": [
    "plot_driver_laptime_tyre(ver_lap)"
   ]
  },
  {
   "cell_type": "code",
   "execution_count": null,
   "id": "2260114d-7673-4b35-a483-b372265c07e5",
   "metadata": {},
   "outputs": [],
   "source": []
  }
 ],
 "metadata": {
  "kernelspec": {
   "display_name": "Python 3.9.13 ('f1thon': venv)",
   "language": "python",
   "name": "python3"
  },
  "language_info": {
   "codemirror_mode": {
    "name": "ipython",
    "version": 3
   },
   "file_extension": ".py",
   "mimetype": "text/x-python",
   "name": "python",
   "nbconvert_exporter": "python",
   "pygments_lexer": "ipython3",
   "version": "3.9.13"
  },
  "vscode": {
   "interpreter": {
    "hash": "8152c78609b64287f08b2198220b4182e68887da03c688ac53ed21eaf607765b"
   }
  }
 },
 "nbformat": 4,
 "nbformat_minor": 5
}
