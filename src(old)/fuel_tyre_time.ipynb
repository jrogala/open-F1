{
 "cells": [
  {
   "cell_type": "code",
   "execution_count": 1,
   "id": "6d1afa3b-a1f4-4cde-87f7-64c19627497b",
   "metadata": {},
   "outputs": [],
   "source": [
    "import pandas as pd\n",
    "pd.options.display.max_columns = 100\n",
    "import numpy as np\n",
    "from matplotlib import pyplot as plt\n",
    "import seaborn as sns\n",
    "sns.set_theme()\n",
    "import fastf1\n",
    "from scipy.optimize import curve_fit\n",
    "fastf1.Cache.enable_cache('./f1cache')\n",
    "from dataclasses import dataclass, field\n",
    "import enum"
   ]
  },
  {
   "cell_type": "code",
   "execution_count": 2,
   "id": "a49a4c7c-0146-46ed-a954-9bb7e606eab2",
   "metadata": {},
   "outputs": [],
   "source": [
    "class Tyre(enum.Enum):\n",
    "    MEDIUM = \"MEDIUM\"\n",
    "    HARD = \"HARD\"\n",
    "    SOFT = \"SOFT\"\n",
    "    INTERMEDIATE = \"INTERMEDIATE\"\n",
    "    WET = \"WET\""
   ]
  },
  {
   "cell_type": "code",
   "execution_count": 3,
   "id": "916ef793-78a8-4aa7-86c8-78c52b9bb562",
   "metadata": {},
   "outputs": [
    {
     "name": "stderr",
     "output_type": "stream",
     "text": [
      "session     WARNING \tRequest for URL https://raw.githubusercontent.com/theOehrly/f1schedule/master/schedule_2022.json failed; using cached response\n",
      "Traceback (most recent call last):\n",
      "  File \"/Users/jroga/Documents/f1 stats/f1thon/lib/python3.9/site-packages/urllib3/connection.py\", line 174, in _new_conn\n",
      "    conn = connection.create_connection(\n",
      "  File \"/Users/jroga/Documents/f1 stats/f1thon/lib/python3.9/site-packages/urllib3/util/connection.py\", line 72, in create_connection\n",
      "    for res in socket.getaddrinfo(host, port, family, socket.SOCK_STREAM):\n",
      "  File \"/usr/local/Cellar/python@3.9/3.9.13_1/Frameworks/Python.framework/Versions/3.9/lib/python3.9/socket.py\", line 954, in getaddrinfo\n",
      "    for res in _socket.getaddrinfo(host, port, family, type, proto, flags):\n",
      "socket.gaierror: [Errno 8] nodename nor servname provided, or not known\n",
      "\n",
      "During handling of the above exception, another exception occurred:\n",
      "\n",
      "Traceback (most recent call last):\n",
      "  File \"/Users/jroga/Documents/f1 stats/f1thon/lib/python3.9/site-packages/urllib3/connectionpool.py\", line 703, in urlopen\n",
      "    httplib_response = self._make_request(\n",
      "  File \"/Users/jroga/Documents/f1 stats/f1thon/lib/python3.9/site-packages/urllib3/connectionpool.py\", line 386, in _make_request\n",
      "    self._validate_conn(conn)\n",
      "  File \"/Users/jroga/Documents/f1 stats/f1thon/lib/python3.9/site-packages/urllib3/connectionpool.py\", line 1042, in _validate_conn\n",
      "    conn.connect()\n",
      "  File \"/Users/jroga/Documents/f1 stats/f1thon/lib/python3.9/site-packages/urllib3/connection.py\", line 358, in connect\n",
      "    self.sock = conn = self._new_conn()\n",
      "  File \"/Users/jroga/Documents/f1 stats/f1thon/lib/python3.9/site-packages/urllib3/connection.py\", line 186, in _new_conn\n",
      "    raise NewConnectionError(\n",
      "urllib3.exceptions.NewConnectionError: <urllib3.connection.HTTPSConnection object at 0x11a3c4c10>: Failed to establish a new connection: [Errno 8] nodename nor servname provided, or not known\n",
      "\n",
      "During handling of the above exception, another exception occurred:\n",
      "\n",
      "Traceback (most recent call last):\n",
      "  File \"/Users/jroga/Documents/f1 stats/f1thon/lib/python3.9/site-packages/requests/adapters.py\", line 489, in send\n",
      "    resp = conn.urlopen(\n",
      "  File \"/Users/jroga/Documents/f1 stats/f1thon/lib/python3.9/site-packages/urllib3/connectionpool.py\", line 787, in urlopen\n",
      "    retries = retries.increment(\n",
      "  File \"/Users/jroga/Documents/f1 stats/f1thon/lib/python3.9/site-packages/urllib3/util/retry.py\", line 592, in increment\n",
      "    raise MaxRetryError(_pool, url, error or ResponseError(cause))\n",
      "urllib3.exceptions.MaxRetryError: HTTPSConnectionPool(host='raw.githubusercontent.com', port=443): Max retries exceeded with url: /theOehrly/f1schedule/master/schedule_2022.json (Caused by NewConnectionError('<urllib3.connection.HTTPSConnection object at 0x11a3c4c10>: Failed to establish a new connection: [Errno 8] nodename nor servname provided, or not known'))\n",
      "\n",
      "During handling of the above exception, another exception occurred:\n",
      "\n",
      "Traceback (most recent call last):\n",
      "  File \"/Users/jroga/Documents/f1 stats/f1thon/lib/python3.9/site-packages/requests_cache/session.py\", line 230, in _resend_and_ignore\n",
      "    response = self._send_and_cache(request, actions, cached_response, **kwargs)\n",
      "  File \"/Users/jroga/Documents/f1 stats/f1thon/lib/python3.9/site-packages/requests_cache/session.py\", line 189, in _send_and_cache\n",
      "    response = super().send(request, **kwargs)\n",
      "  File \"/Users/jroga/Documents/f1 stats/f1thon/lib/python3.9/site-packages/requests/sessions.py\", line 701, in send\n",
      "    r = adapter.send(request, **kwargs)\n",
      "  File \"/Users/jroga/Documents/f1 stats/f1thon/lib/python3.9/site-packages/requests/adapters.py\", line 565, in send\n",
      "    raise ConnectionError(e, request=request)\n",
      "requests.exceptions.ConnectionError: HTTPSConnectionPool(host='raw.githubusercontent.com', port=443): Max retries exceeded with url: /theOehrly/f1schedule/master/schedule_2022.json (Caused by NewConnectionError('<urllib3.connection.HTTPSConnection object at 0x11a3c4c10>: Failed to establish a new connection: [Errno 8] nodename nor servname provided, or not known'))\n",
      "core           INFO \tLoading data for Saudi Arabian Grand Prix - Race [v2.2.9]\n",
      "api            INFO \tUsing cached data for driver_info\n",
      "session     WARNING \tRequest for URL http://ergast.com/api/f1/2022/2/results.json failed; using cached response\n",
      "Traceback (most recent call last):\n",
      "  File \"/Users/jroga/Documents/f1 stats/f1thon/lib/python3.9/site-packages/urllib3/connection.py\", line 174, in _new_conn\n",
      "    conn = connection.create_connection(\n",
      "  File \"/Users/jroga/Documents/f1 stats/f1thon/lib/python3.9/site-packages/urllib3/util/connection.py\", line 72, in create_connection\n",
      "    for res in socket.getaddrinfo(host, port, family, socket.SOCK_STREAM):\n",
      "  File \"/usr/local/Cellar/python@3.9/3.9.13_1/Frameworks/Python.framework/Versions/3.9/lib/python3.9/socket.py\", line 954, in getaddrinfo\n",
      "    for res in _socket.getaddrinfo(host, port, family, type, proto, flags):\n",
      "socket.gaierror: [Errno 8] nodename nor servname provided, or not known\n",
      "\n",
      "During handling of the above exception, another exception occurred:\n",
      "\n",
      "Traceback (most recent call last):\n",
      "  File \"/Users/jroga/Documents/f1 stats/f1thon/lib/python3.9/site-packages/urllib3/connectionpool.py\", line 703, in urlopen\n",
      "    httplib_response = self._make_request(\n",
      "  File \"/Users/jroga/Documents/f1 stats/f1thon/lib/python3.9/site-packages/urllib3/connectionpool.py\", line 398, in _make_request\n",
      "    conn.request(method, url, **httplib_request_kw)\n",
      "  File \"/Users/jroga/Documents/f1 stats/f1thon/lib/python3.9/site-packages/urllib3/connection.py\", line 239, in request\n",
      "    super(HTTPConnection, self).request(method, url, body=body, headers=headers)\n",
      "  File \"/usr/local/Cellar/python@3.9/3.9.13_1/Frameworks/Python.framework/Versions/3.9/lib/python3.9/http/client.py\", line 1285, in request\n",
      "    self._send_request(method, url, body, headers, encode_chunked)\n",
      "  File \"/usr/local/Cellar/python@3.9/3.9.13_1/Frameworks/Python.framework/Versions/3.9/lib/python3.9/http/client.py\", line 1331, in _send_request\n",
      "    self.endheaders(body, encode_chunked=encode_chunked)\n",
      "  File \"/usr/local/Cellar/python@3.9/3.9.13_1/Frameworks/Python.framework/Versions/3.9/lib/python3.9/http/client.py\", line 1280, in endheaders\n",
      "    self._send_output(message_body, encode_chunked=encode_chunked)\n",
      "  File \"/usr/local/Cellar/python@3.9/3.9.13_1/Frameworks/Python.framework/Versions/3.9/lib/python3.9/http/client.py\", line 1040, in _send_output\n",
      "    self.send(msg)\n",
      "  File \"/usr/local/Cellar/python@3.9/3.9.13_1/Frameworks/Python.framework/Versions/3.9/lib/python3.9/http/client.py\", line 980, in send\n",
      "    self.connect()\n",
      "  File \"/Users/jroga/Documents/f1 stats/f1thon/lib/python3.9/site-packages/urllib3/connection.py\", line 205, in connect\n",
      "    conn = self._new_conn()\n",
      "  File \"/Users/jroga/Documents/f1 stats/f1thon/lib/python3.9/site-packages/urllib3/connection.py\", line 186, in _new_conn\n",
      "    raise NewConnectionError(\n",
      "urllib3.exceptions.NewConnectionError: <urllib3.connection.HTTPConnection object at 0x11a4ce250>: Failed to establish a new connection: [Errno 8] nodename nor servname provided, or not known\n",
      "\n",
      "During handling of the above exception, another exception occurred:\n",
      "\n",
      "Traceback (most recent call last):\n",
      "  File \"/Users/jroga/Documents/f1 stats/f1thon/lib/python3.9/site-packages/requests/adapters.py\", line 489, in send\n",
      "    resp = conn.urlopen(\n",
      "  File \"/Users/jroga/Documents/f1 stats/f1thon/lib/python3.9/site-packages/urllib3/connectionpool.py\", line 787, in urlopen\n",
      "    retries = retries.increment(\n",
      "  File \"/Users/jroga/Documents/f1 stats/f1thon/lib/python3.9/site-packages/urllib3/util/retry.py\", line 592, in increment\n",
      "    raise MaxRetryError(_pool, url, error or ResponseError(cause))\n",
      "urllib3.exceptions.MaxRetryError: HTTPConnectionPool(host='ergast.com', port=80): Max retries exceeded with url: /api/f1/2022/2/results.json (Caused by NewConnectionError('<urllib3.connection.HTTPConnection object at 0x11a4ce250>: Failed to establish a new connection: [Errno 8] nodename nor servname provided, or not known'))\n",
      "\n",
      "During handling of the above exception, another exception occurred:\n",
      "\n",
      "Traceback (most recent call last):\n",
      "  File \"/Users/jroga/Documents/f1 stats/f1thon/lib/python3.9/site-packages/requests_cache/session.py\", line 230, in _resend_and_ignore\n",
      "    response = self._send_and_cache(request, actions, cached_response, **kwargs)\n",
      "  File \"/Users/jroga/Documents/f1 stats/f1thon/lib/python3.9/site-packages/requests_cache/session.py\", line 189, in _send_and_cache\n",
      "    response = super().send(request, **kwargs)\n",
      "  File \"/Users/jroga/Documents/f1 stats/f1thon/lib/python3.9/site-packages/requests/sessions.py\", line 701, in send\n",
      "    r = adapter.send(request, **kwargs)\n",
      "  File \"/Users/jroga/Documents/f1 stats/f1thon/lib/python3.9/site-packages/requests/adapters.py\", line 565, in send\n",
      "    raise ConnectionError(e, request=request)\n",
      "requests.exceptions.ConnectionError: HTTPConnectionPool(host='ergast.com', port=80): Max retries exceeded with url: /api/f1/2022/2/results.json (Caused by NewConnectionError('<urllib3.connection.HTTPConnection object at 0x11a4ce250>: Failed to establish a new connection: [Errno 8] nodename nor servname provided, or not known'))\n",
      "api            INFO \tUsing cached data for timing_data\n",
      "api            INFO \tUsing cached data for timing_app_data\n",
      "core           INFO \tProcessing timing data...\n",
      "api            INFO \tUsing cached data for session_status_data\n",
      "api            INFO \tUsing cached data for track_status_data\n",
      "core        WARNING \tNo lap data for driver 22\n",
      "api            INFO \tNo cached data found for car_data. Loading data...\n",
      "api            INFO \tFetching car data...\n",
      "core        WARNING \tFailed to load telemetry data!\n",
      "api            INFO \tNo cached data found for weather_data. Loading data...\n",
      "api            INFO \tFetching weather data...\n",
      "core        WARNING \tFailed to load weather data!\n",
      "api            INFO \tUsing cached data for race_control_messages\n",
      "core           INFO \tFinished loading data for 19 drivers: ['1', '16', '55', '11', '63', '31', '4', '10', '20', '44', '24', '27', '18', '23', '77', '14', '3', '6', '22']\n"
     ]
    },
    {
     "data": {
      "text/html": [
       "<div>\n",
       "<style scoped>\n",
       "    .dataframe tbody tr th:only-of-type {\n",
       "        vertical-align: middle;\n",
       "    }\n",
       "\n",
       "    .dataframe tbody tr th {\n",
       "        vertical-align: top;\n",
       "    }\n",
       "\n",
       "    .dataframe thead th {\n",
       "        text-align: right;\n",
       "    }\n",
       "</style>\n",
       "<table border=\"1\" class=\"dataframe\">\n",
       "  <thead>\n",
       "    <tr style=\"text-align: right;\">\n",
       "      <th></th>\n",
       "      <th>Time</th>\n",
       "      <th>DriverNumber</th>\n",
       "      <th>LapTime</th>\n",
       "      <th>LapNumber</th>\n",
       "      <th>Stint</th>\n",
       "      <th>PitOutTime</th>\n",
       "      <th>PitInTime</th>\n",
       "      <th>Sector1Time</th>\n",
       "      <th>Sector2Time</th>\n",
       "      <th>Sector3Time</th>\n",
       "      <th>Sector1SessionTime</th>\n",
       "      <th>Sector2SessionTime</th>\n",
       "      <th>Sector3SessionTime</th>\n",
       "      <th>SpeedI1</th>\n",
       "      <th>SpeedI2</th>\n",
       "      <th>SpeedFL</th>\n",
       "      <th>SpeedST</th>\n",
       "      <th>IsPersonalBest</th>\n",
       "      <th>Compound</th>\n",
       "      <th>TyreLife</th>\n",
       "      <th>FreshTyre</th>\n",
       "      <th>LapStartTime</th>\n",
       "      <th>Team</th>\n",
       "      <th>Driver</th>\n",
       "      <th>TrackStatus</th>\n",
       "      <th>IsAccurate</th>\n",
       "    </tr>\n",
       "  </thead>\n",
       "  <tbody>\n",
       "  </tbody>\n",
       "</table>\n",
       "</div>"
      ],
      "text/plain": [
       "Empty Laps\n",
       "Columns: [Time, DriverNumber, LapTime, LapNumber, Stint, PitOutTime, PitInTime, Sector1Time, Sector2Time, Sector3Time, Sector1SessionTime, Sector2SessionTime, Sector3SessionTime, SpeedI1, SpeedI2, SpeedFL, SpeedST, IsPersonalBest, Compound, TyreLife, FreshTyre, LapStartTime, Team, Driver, TrackStatus, IsAccurate]\n",
       "Index: []"
      ]
     },
     "execution_count": 3,
     "metadata": {},
     "output_type": "execute_result"
    }
   ],
   "source": [
    "session = fastf1.get_session(2022, 'Djeddah', 'R')\n",
    "session.load(telemetry=True, laps=True, weather=True)\n",
    "laps = session.laps\n",
    "laps.head(0)"
   ]
  },
  {
   "cell_type": "code",
   "execution_count": 4,
   "id": "a8ef5303-723c-4b9a-97a2-7c141a1ced1a",
   "metadata": {},
   "outputs": [],
   "source": [
    "tyreColor = {\n",
    "    \"MEDIUM\": \"yellow\",\n",
    "    \"HARD\": \"black\",\n",
    "    \"SOFT\": \"red\",\n",
    "    \"INTERMEDIATE\": \"green\",\n",
    "    \"WET\": \"blue\"\n",
    "}\n",
    "laps[\"LapTime_s\"] = laps[\"LapTime\"].dt.total_seconds()\n",
    "amount_laps = int(laps[\"LapNumber\"].max())"
   ]
  },
  {
   "cell_type": "code",
   "execution_count": 5,
   "id": "7d3646d8-42b3-4a99-aa4d-fa020d05b764",
   "metadata": {},
   "outputs": [],
   "source": [
    "def plotter(title, xlabel, ylabel):\n",
    "    plt.figure(figsize=(15,5))\n",
    "    plt.title(title)\n",
    "    plt.xlabel(xlabel)\n",
    "    plt.ylabel(ylabel)"
   ]
  },
  {
   "cell_type": "code",
   "execution_count": 6,
   "id": "fedb39e8-bd40-4662-818a-a3a8bf12814b",
   "metadata": {},
   "outputs": [],
   "source": [
    "# Working on laps to remove any pitstop/safety car/begin \n",
    "laps_clean = laps.loc[(laps[\"PitOutTime\"].isna() & laps[\"PitInTime\"].isna()) & (laps[\"TrackStatus\"].astype(int) == 1)].reset_index(drop=True)"
   ]
  },
  {
   "cell_type": "code",
   "execution_count": 7,
   "id": "71519c5e-356e-41e3-834c-893376a909cb",
   "metadata": {},
   "outputs": [
    {
     "data": {
      "text/html": [
       "<div>\n",
       "<style scoped>\n",
       "    .dataframe tbody tr th:only-of-type {\n",
       "        vertical-align: middle;\n",
       "    }\n",
       "\n",
       "    .dataframe tbody tr th {\n",
       "        vertical-align: top;\n",
       "    }\n",
       "\n",
       "    .dataframe thead th {\n",
       "        text-align: right;\n",
       "    }\n",
       "</style>\n",
       "<table border=\"1\" class=\"dataframe\">\n",
       "  <thead>\n",
       "    <tr style=\"text-align: right;\">\n",
       "      <th></th>\n",
       "      <th>Driver</th>\n",
       "      <th>Compound</th>\n",
       "      <th>LapNumber</th>\n",
       "      <th>PitStopTime</th>\n",
       "    </tr>\n",
       "  </thead>\n",
       "  <tbody>\n",
       "    <tr>\n",
       "      <th>2</th>\n",
       "      <td>LEC</td>\n",
       "      <td>MEDIUM</td>\n",
       "      <td>1.0</td>\n",
       "      <td>0.000</td>\n",
       "    </tr>\n",
       "    <tr>\n",
       "      <th>3</th>\n",
       "      <td>LEC</td>\n",
       "      <td>HARD</td>\n",
       "      <td>17.0</td>\n",
       "      <td>21.024</td>\n",
       "    </tr>\n",
       "  </tbody>\n",
       "</table>\n",
       "</div>"
      ],
      "text/plain": [
       "  Driver Compound  LapNumber  PitStopTime\n",
       "2    LEC   MEDIUM        1.0        0.000\n",
       "3    LEC     HARD       17.0       21.024"
      ]
     },
     "execution_count": 7,
     "metadata": {},
     "output_type": "execute_result"
    }
   ],
   "source": [
    "# Find pit time\n",
    "laps_pitstop = laps.loc[(~laps[\"PitOutTime\"].isna()) | (~laps[\"PitInTime\"].isna())].loc[:, [\"Driver\", \"Compound\", \"LapNumber\", \"PitInTime\", \"PitOutTime\"]]\n",
    "laps_pitstop[\"PitInTime_shifted\"] = laps_pitstop.groupby(\"Driver\")[\"PitInTime\"].shift(1)\n",
    "laps_pitstop[\"PitStopTime\"] = (laps_pitstop[\"PitOutTime\"] - laps_pitstop[\"PitInTime_shifted\"]).dt.total_seconds()\n",
    "laps_pitstop.loc[laps_pitstop[\"LapNumber\"] == 1, \"PitStopTime\"] = 0\n",
    "laps_pitstop = laps_pitstop.loc[laps_pitstop[\"PitStopTime\"].notna(), [\"Driver\", \"Compound\", \"LapNumber\", \"PitStopTime\"]].reset_index(drop=True)\n",
    "laps_pitstop.query(\"Driver == 'LEC'\")"
   ]
  },
  {
   "cell_type": "code",
   "execution_count": 8,
   "id": "be45694b-1db3-4a11-9f94-3c65bebe5b54",
   "metadata": {},
   "outputs": [
    {
     "data": {
      "image/png": "[encoded data removed]",
      "text/plain": [
       "<Figure size 1080x360 with 1 Axes>"
      ]
     },
     "metadata": {
      "needs_background": "light"
     },
     "output_type": "display_data"
    }
   ],
   "source": [
    "# Applying fuel penalty to lap time.\n",
    "\n",
    "def P1(x, a, b):\n",
    "        return a - abs(b)*x\n",
    "p0 = [80, 1] # this is an mandatory initial guess\n",
    "\n",
    "comp_min = laps_clean.groupby([\"LapNumber\", \"Compound\"])[\"LapTime_s\"].min().reset_index().groupby(\"LapNumber\").mean().cummin()\n",
    "opt_lapTime, _ = curve_fit(P1, comp_min.dropna().index, comp_min.dropna()[\"LapTime_s\"], p0)\n",
    "fuel_time = pd.Series(index=np.arange(amount_laps), data=P1(np.arange(amount_laps), *opt_lapTime), name=\"LapTime\")\n",
    "fuel_time_pen = fuel_time - fuel_time.min()\n",
    "laps[\"LapTime_s_fuel\"] = (laps[\"LapTime_s\"] - fuel_time_pen.values[laps[\"LapNumber\"].astype(int).values - 1])\n",
    "\n",
    "plotter(\"Cumulative minimum of time\", \"Lap\", \"time (s)\")\n",
    "plt.scatter(comp_min.index, comp_min, label=\"CumMin of time\")\n",
    "plt.plot(fuel_time, label=\"Appoximated time cost by fuel\")\n",
    "plt.legend()\n",
    "plt.show()"
   ]
  },
  {
   "cell_type": "code",
   "execution_count": 21,
   "id": "41f5c985-b30d-417c-b954-61933268f994",
   "metadata": {},
   "outputs": [
    {
     "name": "stderr",
     "output_type": "stream",
     "text": [
      "/Users/jroga/Documents/f1 stats/f1thon/lib/python3.9/site-packages/scipy/optimize/_minpack_py.py:881: OptimizeWarning: Covariance of the parameters could not be estimated\n",
      "  warnings.warn('Covariance of the parameters could not be estimated',\n",
      "/Users/jroga/Documents/f1 stats/f1thon/lib/python3.9/site-packages/scipy/optimize/_minpack_py.py:881: OptimizeWarning: Covariance of the parameters could not be estimated\n",
      "  warnings.warn('Covariance of the parameters could not be estimated',\n"
     ]
    },
    {
     "data": {
      "image/png": "[encoded data removed]",
      "text/plain": [
       "<Figure size 1080x360 with 1 Axes>"
      ]
     },
     "metadata": {
      "needs_background": "light"
     },
     "output_type": "display_data"
    }
   ],
   "source": [
    "# Applying tyre penalty to lap time.\n",
    "\n",
    "def PX(x, a, b, c, d, x0, x1, x2):\n",
    "        return a - abs(b)*np.maximum(x0, x) + abs(c)*np.maximum(x1, x) # + abs(np.maximum(d, 1))*np.maximum(x2, x)\n",
    "p0_X = [80, 1, 1, 1, 5, 10, 50] # this is an mandatory initial guess\n",
    "\n",
    "def P1(x, a, b):\n",
    "        return a - abs(b)*x\n",
    "p0_1 = [80, 1] # this is an mandatory initial guess\n",
    "\n",
    "tyreWear = {}\n",
    "\n",
    "plotter(\"Lap time per tyre\", \"Tyre lap\", \"Time (s)\")\n",
    "for tyreCompound in tyreColor:\n",
    "    comp = laps_clean.query(f\"Compound == '{tyreCompound}'\").reset_index()\n",
    "    if len(comp):\n",
    "        comp_min = comp.groupby(\"TyreLife\")[\"LapTime_s\"].min()\n",
    "        filtered_time = comp_min\n",
    "        try:\n",
    "            opt_lapTime, _ = curve_fit(PX, filtered_time.dropna().index, filtered_time.dropna(), p0_X, maxfev = 80000)\n",
    "            tyreWear[tyreCompound] = PX(np.arange(amount_laps), *opt_lapTime)\n",
    "        except TypeError:\n",
    "            print(\"Error for compound \" + tyreCompound)\n",
    "            opt_lapTime, _ = curve_fit(P1, filtered_time.dropna().index, filtered_time.dropna(), p0_1, maxfev = 80000)\n",
    "            tyreWear[tyreCompound] = P1(np.arange(amount_laps), *opt_lapTime)\n",
    "            \n",
    "        plt.scatter(\n",
    "            filtered_time.index,\n",
    "            filtered_time,\n",
    "            color=tyreColor[tyreCompound]\n",
    "        )\n",
    "        plt.plot(\n",
    "            tyreWear[tyreCompound],\n",
    "            label=tyreCompound,\n",
    "            color=tyreColor[tyreCompound]\n",
    "        )\n",
    "plt.legend()\n",
    "plt.show()"
   ]
  },
  {
   "cell_type": "code",
   "execution_count": 22,
   "id": "6cf15e5a-4e00-4d3c-9c6e-11d8dd345c2b",
   "metadata": {},
   "outputs": [
    {
     "data": {
      "image/png": "[encoded data removed]",
      "text/plain": [
       "<Figure size 1080x360 with 1 Axes>"
      ]
     },
     "metadata": {
      "needs_background": "light"
     },
     "output_type": "display_data"
    }
   ],
   "source": [
    "plotter(\"Theoretical lap time for each tyre\", \"Lap\", \"Time (s)\")\n",
    "for compound in tyreWear:\n",
    "    plt.plot(tyreWear[compound], label=compound, color=tyreColor[compound])\n",
    "plt.legend()\n",
    "plt.show()"
   ]
  },
  {
   "cell_type": "code",
   "execution_count": 23,
   "id": "9743c8d3-d2c2-41c8-96eb-7787459e6d48",
   "metadata": {},
   "outputs": [],
   "source": [
    "@dataclass\n",
    "class PitStop():\n",
    "    new_tyre: Tyre\n",
    "    lap: int\n",
    "    pit_rolling: float = field(default=17)\n",
    "    pit_time: float = field(default=2.5)\n",
    "\n",
    "strategy_leclerc_reel = [\n",
    "    PitStop(Tyre.MEDIUM, 0, 25, 0),\n",
    "    PitStop(Tyre.MEDIUM, 22),\n",
    "    PitStop(Tyre.HARD, 40),\n",
    "    PitStop(Tyre.SOFT, 55),\n",
    "    PitStop(Tyre.SOFT, 80)\n",
    "]\n",
    "\n",
    "strategy_leclerc_opti = [\n",
    "    PitStop(Tyre.MEDIUM, 0, 25, 0),\n",
    "    PitStop(Tyre.MEDIUM, 20, 25, 0),\n",
    "    PitStop(Tyre.SOFT, 53),\n",
    "    PitStop(Tyre.SOFT, 80)\n",
    "]"
   ]
  },
  {
   "cell_type": "code",
   "execution_count": 24,
   "id": "86d39e03-1c57-4af2-9766-faf4a82551e4",
   "metadata": {},
   "outputs": [],
   "source": [
    "stop = 0\n",
    "times = []\n",
    "\n",
    "cur_compound = None\n",
    "cur_compound_lap = None\n",
    "\n",
    "strategy = strategy_leclerc_opti\n",
    "for lap in range(amount_laps):\n",
    "    lap_time = 0\n",
    "    if strategy[stop].lap == lap:\n",
    "        # Add PitStop\n",
    "        lap_time += strategy[stop].pit_rolling + strategy[stop].pit_time\n",
    "        cur_compound = strategy[stop].new_tyre\n",
    "        cur_compound_lap = 0\n",
    "        stop += 1\n",
    "    fuel_time = fuel_time_pen[lap]\n",
    "    tyre_time = tyreWear[cur_compound.value][cur_compound_lap]\n",
    "    lap_time += fuel_time + tyre_time\n",
    "    times.append(lap_time)\n",
    "    cur_compound_lap += 1"
   ]
  },
  {
   "cell_type": "code",
   "execution_count": 26,
   "id": "b22a939b-c482-4ce0-881c-ce50afc33365",
   "metadata": {},
   "outputs": [
    {
     "data": {
      "image/png": "[encoded data removed]",
      "text/plain": [
       "<Figure size 1080x360 with 1 Axes>"
      ]
     },
     "metadata": {
      "needs_background": "light"
     },
     "output_type": "display_data"
    }
   ],
   "source": [
    "plt.figure(figsize=(15,5))\n",
    "plt.semilogy(times, label=\"Strategy predicted\")\n",
    "plt.semilogy(laps.query(\"Driver == 'LEC'\").set_index(\"LapNumber\")[\"LapTime_s\"].values, label=\"Real time from Charles\")\n",
    "plt.legend()\n",
    "plt.show()"
   ]
  },
  {
   "cell_type": "code",
   "execution_count": 570,
   "id": "14e700a5-ab54-4537-8916-d1954ffbb9bd",
   "metadata": {},
   "outputs": [
    {
     "ename": "KeyError",
     "evalue": "'LapTime_s'",
     "output_type": "error",
     "traceback": [
      "\u001b[0;31m---------------------------------------------------------------------------\u001b[0m",
      "\u001b[0;31mKeyError\u001b[0m                                  Traceback (most recent call last)",
      "File \u001b[0;32m~/Documents/f1 stats/f1thon/lib/python3.9/site-packages/pandas/core/indexes/base.py:3621\u001b[0m, in \u001b[0;36mIndex.get_loc\u001b[0;34m(self, key, method, tolerance)\u001b[0m\n\u001b[1;32m   3620\u001b[0m \u001b[38;5;28;01mtry\u001b[39;00m:\n\u001b[0;32m-> 3621\u001b[0m     \u001b[38;5;28;01mreturn\u001b[39;00m \u001b[38;5;28;43mself\u001b[39;49m\u001b[38;5;241;43m.\u001b[39;49m\u001b[43m_engine\u001b[49m\u001b[38;5;241;43m.\u001b[39;49m\u001b[43mget_loc\u001b[49m\u001b[43m(\u001b[49m\u001b[43mcasted_key\u001b[49m\u001b[43m)\u001b[49m\n\u001b[1;32m   3622\u001b[0m \u001b[38;5;28;01mexcept\u001b[39;00m \u001b[38;5;167;01mKeyError\u001b[39;00m \u001b[38;5;28;01mas\u001b[39;00m err:\n",
      "File \u001b[0;32m~/Documents/f1 stats/f1thon/lib/python3.9/site-packages/pandas/_libs/index.pyx:136\u001b[0m, in \u001b[0;36mpandas._libs.index.IndexEngine.get_loc\u001b[0;34m()\u001b[0m\n",
      "File \u001b[0;32m~/Documents/f1 stats/f1thon/lib/python3.9/site-packages/pandas/_libs/index.pyx:163\u001b[0m, in \u001b[0;36mpandas._libs.index.IndexEngine.get_loc\u001b[0;34m()\u001b[0m\n",
      "File \u001b[0;32mpandas/_libs/hashtable_class_helper.pxi:5198\u001b[0m, in \u001b[0;36mpandas._libs.hashtable.PyObjectHashTable.get_item\u001b[0;34m()\u001b[0m\n",
      "File \u001b[0;32mpandas/_libs/hashtable_class_helper.pxi:5206\u001b[0m, in \u001b[0;36mpandas._libs.hashtable.PyObjectHashTable.get_item\u001b[0;34m()\u001b[0m\n",
      "\u001b[0;31mKeyError\u001b[0m: 'LapTime_s'",
      "\nThe above exception was the direct cause of the following exception:\n",
      "\u001b[0;31mKeyError\u001b[0m                                  Traceback (most recent call last)",
      "Input \u001b[0;32mIn [570]\u001b[0m, in \u001b[0;36m<cell line: 1>\u001b[0;34m()\u001b[0m\n\u001b[0;32m----> 1\u001b[0m plt\u001b[38;5;241m.\u001b[39mplot(pd\u001b[38;5;241m.\u001b[39mSeries(times[\u001b[38;5;241m0\u001b[39m:\u001b[38;5;241m55\u001b[39m])\u001b[38;5;241m.\u001b[39mcumsum()\u001b[38;5;241m-\u001b[39m\u001b[43mlaps\u001b[49m\u001b[38;5;241;43m.\u001b[39;49m\u001b[43mquery\u001b[49m\u001b[43m(\u001b[49m\u001b[38;5;124;43m\"\u001b[39;49m\u001b[38;5;124;43mDriver == \u001b[39;49m\u001b[38;5;124;43m'\u001b[39;49m\u001b[38;5;124;43mLEC\u001b[39;49m\u001b[38;5;124;43m'\u001b[39;49m\u001b[38;5;124;43m\"\u001b[39;49m\u001b[43m)\u001b[49m\u001b[38;5;241;43m.\u001b[39;49m\u001b[43mset_index\u001b[49m\u001b[43m(\u001b[49m\u001b[38;5;124;43m\"\u001b[39;49m\u001b[38;5;124;43mLapNumber\u001b[39;49m\u001b[38;5;124;43m\"\u001b[39;49m\u001b[43m)\u001b[49m\u001b[43m[\u001b[49m\u001b[38;5;124;43m\"\u001b[39;49m\u001b[38;5;124;43mLapTime_s\u001b[39;49m\u001b[38;5;124;43m\"\u001b[39;49m\u001b[43m]\u001b[49m\u001b[38;5;241m.\u001b[39mdropna()\u001b[38;5;241m.\u001b[39mcumsum()\u001b[38;5;241m.\u001b[39mvalues[:\u001b[38;5;241m55\u001b[39m], label\u001b[38;5;241m=\u001b[39m\u001b[38;5;124m\"\u001b[39m\u001b[38;5;124mReal time from Charles\u001b[39m\u001b[38;5;124m\"\u001b[39m)\n",
      "File \u001b[0;32m~/Documents/f1 stats/f1thon/lib/python3.9/site-packages/pandas/core/frame.py:3505\u001b[0m, in \u001b[0;36mDataFrame.__getitem__\u001b[0;34m(self, key)\u001b[0m\n\u001b[1;32m   3503\u001b[0m \u001b[38;5;28;01mif\u001b[39;00m \u001b[38;5;28mself\u001b[39m\u001b[38;5;241m.\u001b[39mcolumns\u001b[38;5;241m.\u001b[39mnlevels \u001b[38;5;241m>\u001b[39m \u001b[38;5;241m1\u001b[39m:\n\u001b[1;32m   3504\u001b[0m     \u001b[38;5;28;01mreturn\u001b[39;00m \u001b[38;5;28mself\u001b[39m\u001b[38;5;241m.\u001b[39m_getitem_multilevel(key)\n\u001b[0;32m-> 3505\u001b[0m indexer \u001b[38;5;241m=\u001b[39m \u001b[38;5;28;43mself\u001b[39;49m\u001b[38;5;241;43m.\u001b[39;49m\u001b[43mcolumns\u001b[49m\u001b[38;5;241;43m.\u001b[39;49m\u001b[43mget_loc\u001b[49m\u001b[43m(\u001b[49m\u001b[43mkey\u001b[49m\u001b[43m)\u001b[49m\n\u001b[1;32m   3506\u001b[0m \u001b[38;5;28;01mif\u001b[39;00m is_integer(indexer):\n\u001b[1;32m   3507\u001b[0m     indexer \u001b[38;5;241m=\u001b[39m [indexer]\n",
      "File \u001b[0;32m~/Documents/f1 stats/f1thon/lib/python3.9/site-packages/pandas/core/indexes/base.py:3623\u001b[0m, in \u001b[0;36mIndex.get_loc\u001b[0;34m(self, key, method, tolerance)\u001b[0m\n\u001b[1;32m   3621\u001b[0m     \u001b[38;5;28;01mreturn\u001b[39;00m \u001b[38;5;28mself\u001b[39m\u001b[38;5;241m.\u001b[39m_engine\u001b[38;5;241m.\u001b[39mget_loc(casted_key)\n\u001b[1;32m   3622\u001b[0m \u001b[38;5;28;01mexcept\u001b[39;00m \u001b[38;5;167;01mKeyError\u001b[39;00m \u001b[38;5;28;01mas\u001b[39;00m err:\n\u001b[0;32m-> 3623\u001b[0m     \u001b[38;5;28;01mraise\u001b[39;00m \u001b[38;5;167;01mKeyError\u001b[39;00m(key) \u001b[38;5;28;01mfrom\u001b[39;00m \u001b[38;5;21;01merr\u001b[39;00m\n\u001b[1;32m   3624\u001b[0m \u001b[38;5;28;01mexcept\u001b[39;00m \u001b[38;5;167;01mTypeError\u001b[39;00m:\n\u001b[1;32m   3625\u001b[0m     \u001b[38;5;66;03m# If we have a listlike key, _check_indexing_error will raise\u001b[39;00m\n\u001b[1;32m   3626\u001b[0m     \u001b[38;5;66;03m#  InvalidIndexError. Otherwise we fall through and re-raise\u001b[39;00m\n\u001b[1;32m   3627\u001b[0m     \u001b[38;5;66;03m#  the TypeError.\u001b[39;00m\n\u001b[1;32m   3628\u001b[0m     \u001b[38;5;28mself\u001b[39m\u001b[38;5;241m.\u001b[39m_check_indexing_error(key)\n",
      "\u001b[0;31mKeyError\u001b[0m: 'LapTime_s'"
     ]
    }
   ],
   "source": [
    "plt.plot(pd.Series(times[0:55]).cumsum()-laps.query(\"Driver == 'LEC'\").set_index(\"LapNumber\")[\"LapTime_s\"].dropna().cumsum().values[:55], label=\"Real time from Charles\")"
   ]
  },
  {
   "cell_type": "code",
   "execution_count": 522,
   "id": "c1446eb0-4c58-4325-8bf8-ca42704e139b",
   "metadata": {},
   "outputs": [
    {
     "data": {
      "text/plain": [
       "LapNumber\n",
       "2      144.979\n",
       "3      248.197\n",
       "4      350.082\n",
       "5      449.761\n",
       "6      547.807\n",
       "7      644.988\n",
       "8      742.414\n",
       "9      839.002\n",
       "10     935.301\n",
       "11    1030.624\n",
       "12    1125.701\n",
       "13    1219.366\n",
       "14    1312.680\n",
       "15    1404.778\n",
       "16    1496.911\n",
       "17    1588.401\n",
       "18    1699.249\n",
       "19    1789.398\n",
       "20    1877.554\n",
       "21    1984.114\n",
       "22    2076.703\n",
       "23    2165.482\n",
       "24    2249.641\n",
       "25    2332.777\n",
       "26    2415.505\n",
       "27    2537.981\n",
       "28    2664.922\n",
       "29    2782.668\n",
       "32    2903.368\n",
       "33    2986.691\n",
       "34    3068.360\n",
       "35    3147.472\n",
       "36    3226.866\n",
       "37    3305.627\n",
       "38    3383.170\n",
       "39    3460.150\n",
       "40    3537.597\n",
       "41    3614.458\n",
       "42    3691.445\n",
       "43    3768.451\n",
       "44    3845.370\n",
       "45    3921.849\n",
       "46    3998.098\n",
       "47    4074.590\n",
       "48    4151.486\n",
       "49    4227.975\n",
       "50    4305.497\n",
       "51    4382.270\n",
       "52    4459.081\n",
       "53    4536.216\n",
       "54    4613.925\n",
       "55    4691.865\n",
       "56    4770.487\n",
       "57    4849.547\n",
       "58    4928.499\n",
       "dtype: float64"
      ]
     },
     "execution_count": 522,
     "metadata": {},
     "output_type": "execute_result"
    }
   ],
   "source": [
    "laps.query(\"Driver == 'LEC'\").set_index(\"LapNumber\")[\"LapTime_s\"].cumsum().dropna()[:55]"
   ]
  },
  {
   "cell_type": "code",
   "execution_count": 449,
   "id": "2b8e7fec-0a16-4e77-9423-08c6b15fb34a",
   "metadata": {},
   "outputs": [
    {
     "data": {
      "text/plain": [
       "0      109.010320\n",
       "1      192.998924\n",
       "2      276.965811\n",
       "3      360.910981\n",
       "4      444.834434\n",
       "5      528.736171\n",
       "6      612.616190\n",
       "7      696.474493\n",
       "8      780.311079\n",
       "9      864.125948\n",
       "10     947.919101\n",
       "11    1031.690537\n",
       "12    1115.440256\n",
       "13    1199.168258\n",
       "14    1282.874543\n",
       "15    1366.538344\n",
       "16    1450.159659\n",
       "17    1533.738489\n",
       "18    1617.274835\n",
       "19    1700.768695\n",
       "20    1784.220070\n",
       "21    1867.628960\n",
       "22    1976.161511\n",
       "23    2059.672346\n",
       "24    2143.161463\n",
       "25    2226.628864\n",
       "26    2310.074548\n",
       "27    2393.498515\n",
       "28    2476.900765\n",
       "29    2560.281299\n",
       "30    2643.640115\n",
       "31    2726.977215\n",
       "32    2810.292598\n",
       "33    2893.586265\n",
       "34    2976.858214\n",
       "35    3060.108447\n",
       "36    3143.336963\n",
       "37    3226.522994\n",
       "38    3309.666540\n",
       "39    3392.767601\n",
       "40    3475.826177\n",
       "41    3558.842268\n",
       "42    3641.815874\n",
       "43    3724.746995\n",
       "44    3807.635631\n",
       "45    3890.544993\n",
       "46    3973.563652\n",
       "47    4056.691607\n",
       "48    4139.928860\n",
       "49    4223.275410\n",
       "50    4306.731257\n",
       "51    4390.296401\n",
       "52    4473.970841\n",
       "53    4557.754579\n",
       "54    4641.647613\n",
       "dtype: float64"
      ]
     },
     "execution_count": 449,
     "metadata": {},
     "output_type": "execute_result"
    }
   ],
   "source": [
    "pd.Series(times[0:55]).cumsum()"
   ]
  },
  {
   "cell_type": "code",
   "execution_count": null,
   "id": "a05ed751-6db8-4fd0-b2ba-3e282b8628ef",
   "metadata": {},
   "outputs": [],
   "source": []
  }
 ],
 "metadata": {
  "kernelspec": {
   "display_name": "Python 3.9.13 ('f1thon': venv)",
   "language": "python",
   "name": "python3"
  },
  "language_info": {
   "codemirror_mode": {
    "name": "ipython",
    "version": 3
   },
   "file_extension": ".py",
   "mimetype": "text/x-python",
   "name": "python",
   "nbconvert_exporter": "python",
   "pygments_lexer": "ipython3",
   "version": "3.9.13 (main, May 24 2022, 21:28:31) \n[Clang 13.1.6 (clang-1316.0.21.2)]"
  },
  "vscode": {
   "interpreter": {
    "hash": "8152c78609b64287f08b2198220b4182e68887da03c688ac53ed21eaf607765b"
   }
  }
 },
 "nbformat": 4,
 "nbformat_minor": 5
}
