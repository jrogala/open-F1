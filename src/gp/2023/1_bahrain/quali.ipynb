{
 "cells": [
  {
   "cell_type": "code",
   "execution_count": null,
   "metadata": {},
   "outputs": [],
   "source": [
    "import pandas as pd"
   ]
  }
 ],
 "metadata": {
  "kernelspec": {
   "display_name": "f1thon",
   "language": "python",
   "name": "python3"
  },
  "language_info": {
   "name": "python",
   "version": "3.9.13"
  },
  "orig_nbformat": 4,
  "vscode": {
   "interpreter": {
    "hash": "8152c78609b64287f08b2198220b4182e68887da03c688ac53ed21eaf607765b"
   }
  }
 },
 "nbformat": 4,
 "nbformat_minor": 2
}
