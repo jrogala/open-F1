{
 "cells": [
  {
   "attachments": {},
   "cell_type": "markdown",
   "metadata": {},
   "source": [
    "# open F1 index"
   ]
  },
  {
   "cell_type": "code",
   "execution_count": 5,
   "metadata": {
    "tags": [
     "hide-input"
    ]
   },
   "outputs": [
    {
     "name": "stdout",
     "output_type": "stream",
     "text": [
      "2023 1 bahrain quali http://f1.roga.la/gp20231_bahrainquali.html\n",
      "2023 1 bahrain race http://f1.roga.la/gp20231_bahrainrace.html\n"
     ]
    }
   ],
   "source": [
    "import glob\n",
    "all_filePath = glob.glob(\"gp/*/*/*.ipynb\")\n",
    "for filePath in all_filePath:\n",
    "    l = filePath.split(\"/\")\n",
    "    year = l[1]\n",
    "    raceIndex, raceName = l[2].split(\"_\")\n",
    "    sessionName = l[3].replace(\".ipynb\", \"\")\n",
    "    uniqueName = filePath.replace(\"/\", \"\").replace(\".ipynb\", \"\").replace(\"src\", \"\")\n",
    "    print(f\"{year} {raceIndex} {raceName} {sessionName} http://f1.roga.la/{uniqueName}.html\")"
   ]
  },
  {
   "cell_type": "code",
   "execution_count": null,
   "metadata": {},
   "outputs": [],
   "source": []
  }
 ],
 "metadata": {
  "kernelspec": {
   "display_name": "f1thon",
   "language": "python",
   "name": "python3"
  },
  "language_info": {
   "codemirror_mode": {
    "name": "ipython",
    "version": 3
   },
   "file_extension": ".py",
   "mimetype": "text/x-python",
   "name": "python",
   "nbconvert_exporter": "python",
   "pygments_lexer": "ipython3",
   "version": "3.9.16"
  },
  "orig_nbformat": 4,
  "vscode": {
   "interpreter": {
    "hash": "8152c78609b64287f08b2198220b4182e68887da03c688ac53ed21eaf607765b"
   }
  }
 },
 "nbformat": 4,
 "nbformat_minor": 2
}
