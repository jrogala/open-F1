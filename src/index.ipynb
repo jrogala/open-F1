{
 "cells": [
  {
   "attachments": {},
   "cell_type": "markdown",
   "metadata": {},
   "source": [
    "# open F1 index"
   ]
  },
  {
   "cell_type": "code",
   "execution_count": 42,
   "metadata": {
    "tags": [
     "hide-input"
    ]
   },
   "outputs": [
    {
     "data": {
      "text/markdown": [
       "2023 1 bahrain\n",
       "\n",
       "- <a href=\"http://f1.roga.la/gp20231_bahrainquali.html\">quali</a>\n",
       "- <a href=\"http://f1.roga.la/gp20231_bahrainrace.html\">race</a>\n"
      ],
      "text/plain": [
       "<IPython.core.display.Markdown object>"
      ]
     },
     "metadata": {},
     "output_type": "display_data"
    }
   ],
   "source": [
    "import glob\n",
    "all_filePath = glob.glob(\"gp/*/*/*.ipynb\")\n",
    "from IPython.display import display, Markdown\n",
    "txt = \"\"\n",
    "for filePath in all_filePath:\n",
    "    l = filePath.split(\"/\")\n",
    "    year = l[1]\n",
    "    raceIndex, raceName = l[2].split(\"_\")\n",
    "    sessionName = l[3].replace(\".ipynb\", \"\")\n",
    "    uniqueName = filePath.replace(\"/\", \"\").replace(\".ipynb\", \"\").replace(\"src\", \"\")\n",
    "    if sessionName == \"quali\": \n",
    "        txt += f\"\"\"{year} {raceIndex} {raceName}\\n\\n\"\"\"\n",
    "    txt += f\"\"\"- <a href=\"http://f1.roga.la/{uniqueName}.html\">{sessionName}</a>\\n\"\"\"\n",
    "display(Markdown(txt))"
   ]
  }
 ],
 "metadata": {
  "kernelspec": {
   "display_name": "f1thon",
   "language": "python",
   "name": "python3"
  },
  "language_info": {
   "codemirror_mode": {
    "name": "ipython",
    "version": 3
   },
   "file_extension": ".py",
   "mimetype": "text/x-python",
   "name": "python",
   "nbconvert_exporter": "python",
   "pygments_lexer": "ipython3",
   "version": "3.9.16"
  },
  "orig_nbformat": 4,
  "vscode": {
   "interpreter": {
    "hash": "8152c78609b64287f08b2198220b4182e68887da03c688ac53ed21eaf607765b"
   }
  }
 },
 "nbformat": 4,
 "nbformat_minor": 2
}
